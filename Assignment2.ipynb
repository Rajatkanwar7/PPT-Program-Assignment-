{
 "cells": [
  {
   "cell_type": "markdown",
   "id": "c6a35373-4364-47c5-bc91-4e4f2071c956",
   "metadata": {},
   "source": [
    "## 1. Scenario: A company wants to analyze the sales performance of its products in different regions. They have collected the following data:\n",
    "  \n",
    "  ### Region A: [10, 15, 12, 8, 14]\n",
    " ###  Region B: [18, 20, 16, 22, 25]\n",
    "   \n",
    " ###  Calculate the mean sales for each region.\n"
   ]
  },
  {
   "cell_type": "markdown",
   "id": "1773dca5-4ae1-43a4-b314-ebb21c37b8ee",
   "metadata": {},
   "source": [
    "## Ans:\n",
    "\n",
    "To calculate the mean sales for each region, you need to sum up the sales values for each region and divide by the number of data points in that region.\n",
    "\n",
    "#### For Region A:\n",
    "Sales data: [10, 15, 12, 8, 14]\n",
    "\n",
    "To calculate the mean, add up all the values and divide by the total number of values:\n",
    "\n",
    "Mean for Region A = (10 + 15 + 12 + 8 + 14) / 5 = 59 / 5 = 11.8\n",
    "\n",
    "So, the mean sales for Region A is 11.8.\n",
    "\n",
    "#### For Region B:\n",
    "\n",
    "Sales data: [18, 20, 16, 22, 25]\n",
    "\n",
    "Mean for Region B = (18 + 20 + 16 + 22 + 25) / 5 = 101 / 5 = 20.2\n",
    "\n",
    "Therefore, the mean sales for Region B is 20.2."
   ]
  },
  {
   "cell_type": "code",
   "execution_count": 1,
   "id": "bba7654e-0cc8-42a5-a0ff-00727c52314c",
   "metadata": {},
   "outputs": [
    {
     "name": "stdout",
     "output_type": "stream",
     "text": [
      "Mean sales for Region A: 11.8\n",
      "Mean sales for Region B: 20.2\n"
     ]
    }
   ],
   "source": [
    "import numpy as np\n",
    "region_a_sales = [10, 15, 12, 8, 14]\n",
    "region_b_sales = [18, 20, 16, 22, 25]\n",
    "mean_a = np.mean(region_a_sales)\n",
    "mean_b = np.mean(region_b_sales)\n",
    "print(\"Mean sales for Region A:\", mean_a)\n",
    "print(\"Mean sales for Region B:\", mean_b)\n"
   ]
  },
  {
   "cell_type": "code",
   "execution_count": null,
   "id": "419b2845-d5e6-4ef7-8591-3a33691f7c0c",
   "metadata": {},
   "outputs": [],
   "source": []
  },
  {
   "cell_type": "markdown",
   "id": "792e4095-fcd8-4137-84c8-c41d693c662a",
   "metadata": {},
   "source": [
    "### 2. Scenario: A survey is conducted to measure customer satisfaction on a scale of 1 to 5. The data collected is as follows:\n",
    "   \n",
    "   [4, 5, 2, 3, 5, 4, 3, 2, 4, 5]\n",
    "  \n",
    "####   Calculate the mode of the survey responses."
   ]
  },
  {
   "cell_type": "code",
   "execution_count": 3,
   "id": "84382c5c-71ff-4e5e-ae96-44162bb2139c",
   "metadata": {},
   "outputs": [
    {
     "name": "stdout",
     "output_type": "stream",
     "text": [
      "Mode of the survey responses: 4\n"
     ]
    }
   ],
   "source": [
    "# Ans:\n",
    "import statistics\n",
    "survey_responses = [4, 5, 2, 3, 5, 4, 3, 2, 4, 5]\n",
    "mode = statistics.mode(survey_responses)\n",
    "print(\"Mode of the survey responses:\", mode)\n"
   ]
  },
  {
   "cell_type": "code",
   "execution_count": null,
   "id": "fe2bb6c4-ed89-44e5-b569-7716da411a07",
   "metadata": {},
   "outputs": [],
   "source": []
  },
  {
   "cell_type": "markdown",
   "id": "132a64f4-327a-4323-8e00-3cc5ac7dc6c8",
   "metadata": {},
   "source": [
    "### 3. Scenario: A company wants to compare the salaries of two departments. The salary data for Department A and Department B are as follows:\n",
    " ####  Department A: [5000, 6000, 5500, 7000]\n",
    " ####  Department B: [4500, 5500, 5800, 6000, 5200]\n",
    " #### Calculate the median salary for each department.\n"
   ]
  },
  {
   "cell_type": "code",
   "execution_count": 5,
   "id": "9cfd91e8-e29d-4b36-bdc4-568746c7716c",
   "metadata": {},
   "outputs": [
    {
     "name": "stdout",
     "output_type": "stream",
     "text": [
      "Median salary for Department A: 5750.0\n",
      "Median salary for Department B: 5500.0\n"
     ]
    }
   ],
   "source": [
    "#Ans:\n",
    "import numpy as np\n",
    "department_a_salaries = [5000, 6000, 5500, 7000]\n",
    "department_b_salaries = [4500, 5500, 5800, 6000, 5200]\n",
    "median_a = np.median(department_a_salaries)\n",
    "median_b = np.median(department_b_salaries)\n",
    "print(\"Median salary for Department A:\", median_a)\n",
    "print(\"Median salary for Department B:\", median_b)\n"
   ]
  },
  {
   "cell_type": "code",
   "execution_count": null,
   "id": "a93343e4-4530-40e2-8cb4-79e1fc202df6",
   "metadata": {},
   "outputs": [],
   "source": []
  },
  {
   "cell_type": "markdown",
   "id": "ac2714cc-2eb8-4402-a891-2f3378bcd940",
   "metadata": {},
   "source": [
    "## 4. Scenario: A data analyst wants to determine the variability in the daily stock prices of a company. The data collected is as follows:\n",
    " ###  [25.5, 24.8, 26.1, 25.3, 24.9]\n",
    " ###   Calculate the range of the stock prices.\n"
   ]
  },
  {
   "cell_type": "code",
   "execution_count": 8,
   "id": "988675e2-8f70-4d0e-8676-b3f19b4fae7c",
   "metadata": {},
   "outputs": [
    {
     "name": "stdout",
     "output_type": "stream",
     "text": [
      "Range of stock prices: 1.3000000000000007\n"
     ]
    }
   ],
   "source": [
    "# Ans:\n",
    "import numpy as np\n",
    "stock_prices = [25.5, 24.8, 26.1, 25.3, 24.9]\n",
    "range_stock_prices = np.ptp(stock_prices)\n",
    "print(\"Range of stock prices:\", range_stock_prices)\n"
   ]
  },
  {
   "cell_type": "code",
   "execution_count": null,
   "id": "8e289aa2-38d8-4ffc-8e59-b2990ae23a9a",
   "metadata": {},
   "outputs": [],
   "source": []
  },
  {
   "cell_type": "markdown",
   "id": "6e39b8cc-6150-4af4-a697-6c07471dd53b",
   "metadata": {},
   "source": [
    "### 5. Scenario: A study is conducted to compare the performance of two different teaching methods. The test scores of the students in each group are as follows:\n",
    " ####  Group A: [85, 90, 92, 88, 91]\n",
    " ####  Group B: [82, 88, 90, 86, 87]\n",
    " ####  Perform a t-test to determine if there is a significant difference in the mean scores between the two groups.\n"
   ]
  },
  {
   "cell_type": "markdown",
   "id": "cce6fa4c-9a15-44db-b71d-d42dcc202531",
   "metadata": {},
   "source": [
    "#### We set the significance level (alpha) to 0.05, which is a common choice. If the p-value is less than the significance level, we reject the null hypothesis and conclude that there is a significant difference in the mean scores between the two groups. Otherwise, if the p-value is greater than or equal to the significance level, we fail to reject the null hypothesis and conclude that there is no significant difference in the mean scores between the two groups."
   ]
  },
  {
   "cell_type": "code",
   "execution_count": 13,
   "id": "140e746b-6382-4380-9deb-72e1638a8258",
   "metadata": {},
   "outputs": [
    {
     "name": "stdout",
     "output_type": "stream",
     "text": [
      "P value is: 0.19023970239078333\n",
      "There is no significant difference in the mean scores between the two groups.\n"
     ]
    }
   ],
   "source": [
    "#Ans:\n",
    "import scipy.stats as stats\n",
    "group_a_scores = [85, 90, 92, 88, 91]\n",
    "group_b_scores = [82, 88, 90, 86, 87]\n",
    "t_statistic, p_value = stats.ttest_ind(group_a_scores, group_b_scores)\n",
    "alpha = 0.05  # significance level\n",
    "print(\"P value is:\", p_value)\n",
    "if p_value < alpha:\n",
    "    print(\"There is a significant difference in the mean scores between the two groups.\")\n",
    "else:\n",
    "    print(\"There is no significant difference in the mean scores between the two groups.\")\n"
   ]
  },
  {
   "cell_type": "code",
   "execution_count": null,
   "id": "9e3e00c6-3d89-41d7-be6d-9fac1383cfbf",
   "metadata": {},
   "outputs": [],
   "source": []
  },
  {
   "cell_type": "markdown",
   "id": "9a191332-e881-4688-a8cd-d2087c2fb1b4",
   "metadata": {},
   "source": [
    "### 6. Scenario: A company wants to analyze the relationship between advertising expenditure and sales. The data collected is as follows:\n",
    "####   Advertising Expenditure (in thousands): [10, 15, 12, 8, 14]\n",
    "####   Sales (in thousands): [25, 30, 28, 20, 26]\n",
    "####   Calculate the correlation coefficient between advertising expenditure and sales.\n"
   ]
  },
  {
   "cell_type": "code",
   "execution_count": 17,
   "id": "581aef3d-436d-41c7-94c6-d3f5302b53aa",
   "metadata": {},
   "outputs": [
    {
     "name": "stdout",
     "output_type": "stream",
     "text": [
      "Correlation coefficient: 0.8757511375750132\n"
     ]
    },
    {
     "data": {
      "image/png": "[encoded data removed]",
      "text/plain": [
       "<Figure size 640x480 with 1 Axes>"
      ]
     },
     "metadata": {},
     "output_type": "display_data"
    }
   ],
   "source": [
    "import numpy as np\n",
    "import matplotlib.pyplot as plt\n",
    "advertising_expenditure = [10, 15, 12, 8, 14]\n",
    "sales = [25, 30, 28, 20, 26]\n",
    "correlation_coefficient = np.corrcoef(advertising_expenditure, sales)[0, 1]\n",
    "print(\"Correlation coefficient:\", correlation_coefficient)\n",
    "plt.scatter(advertising_expenditure, sales)\n",
    "plt.xlabel(\"Advertising Expenditure (in thousands)\")\n",
    "plt.ylabel(\"Sales (in thousands)\")\n",
    "plt.title(\"Relationship between Advertising Expenditure and Sales\")\n",
    "plt.show()\n"
   ]
  },
  {
   "cell_type": "code",
   "execution_count": null,
   "id": "6ab36152-f74d-4468-92f3-4c41febe963c",
   "metadata": {},
   "outputs": [],
   "source": []
  },
  {
   "cell_type": "markdown",
   "id": "1b2cd1f8-f04f-4afb-a63b-30e57552d28d",
   "metadata": {},
   "source": [
    "### 7. Scenario: A survey is conducted to measure the heights of a group of people. The data collected is as follows:\n",
    "####   [160, 170, 165, 155, 175, 180, 170]\n",
    "####  Calculate the standard deviation of the heights.\n"
   ]
  },
  {
   "cell_type": "code",
   "execution_count": 19,
   "id": "9a8480fa-a1aa-4072-b0c4-b5c765fa4bbf",
   "metadata": {},
   "outputs": [
    {
     "name": "stdout",
     "output_type": "stream",
     "text": [
      "Standard deviation of heights: 7.953949089757174\n"
     ]
    },
    {
     "data": {
      "image/png": "[encoded data removed]",
      "text/plain": [
       "<Figure size 640x480 with 1 Axes>"
      ]
     },
     "metadata": {},
     "output_type": "display_data"
    }
   ],
   "source": [
    "#Ans:\n",
    "import numpy as np\n",
    "import matplotlib.pyplot as plt\n",
    "heights = [160, 170, 165, 155, 175, 180, 170]\n",
    "standard_deviation = np.std(heights)\n",
    "print(\"Standard deviation of heights:\", standard_deviation)\n",
    "plt.boxplot(heights)\n",
    "plt.ylabel(\"Height\")\n",
    "plt.title(\"Distribution of Heights\")\n",
    "plt.show()\n"
   ]
  },
  {
   "cell_type": "code",
   "execution_count": null,
   "id": "cfd0a6dc-630d-4b36-9964-530c2d0e2241",
   "metadata": {},
   "outputs": [],
   "source": []
  },
  {
   "cell_type": "markdown",
   "id": "5545449f-09bb-4e6a-a597-1f03f8b02751",
   "metadata": {},
   "source": [
    "### 8. Scenario: A company wants to analyze the relationship between employee tenure and job satisfaction. The data collected is as follows:\n",
    "####   Employee Tenure (in years): [2, 3, 5, 4, 6, 2, 4]\n",
    "####   Job Satisfaction (on a scale of 1 to 10): [7, 8, 6, 9, 5, 7, 6]\n",
    "####   Perform a linear regression analysis to predict job satisfaction based on employee tenure.\n"
   ]
  },
  {
   "cell_type": "code",
   "execution_count": 33,
   "id": "cb173a1d-8e07-427b-a8f1-4819b93136e2",
   "metadata": {},
   "outputs": [
    {
     "name": "stdout",
     "output_type": "stream",
     "text": [
      "Predicted job satisfaction for new employee tenuse of  [[3.5]] years is: 6.957446808510637\n"
     ]
    }
   ],
   "source": [
    "from sklearn.linear_model import LinearRegression\n",
    "import numpy as np\n",
    "employee_tenure = np.array([2, 3, 5, 4, 6, 2, 4]).reshape(-1, 1)\n",
    "job_satisfaction = np.array([7, 8, 6, 9, 5, 7, 6])\n",
    "# Create and fit the linear regression model\n",
    "model = LinearRegression()\n",
    "model.fit(employee_tenure, job_satisfaction)\n",
    "# Predict job satisfaction for a new employee tenure\n",
    "new_employee_tenure = np.array([[3.5]])  # Example: predicting for 3.5 years of employee tenure\n",
    "predicted_job_satisfaction = model.predict(new_employee_tenure)\n",
    "print(\"Predicted job satisfaction for new employee tenuse of \",new_employee_tenure,\"years is:\", predicted_job_satisfaction[0])\n"
   ]
  },
  {
   "cell_type": "code",
   "execution_count": null,
   "id": "e4d50656-8e63-4c79-af7e-015330b211bd",
   "metadata": {},
   "outputs": [],
   "source": []
  },
  {
   "cell_type": "markdown",
   "id": "a129e4fc-3f1d-43c0-8f23-58d8ffeea8dd",
   "metadata": {},
   "source": [
    "### 9. Scenario: A study is conducted to compare the effectiveness of two different medications. The recovery times of the patients in each group are as follows:\n",
    "####   Medication A: [10, 12, 14, 11, 13]\n",
    "####   Medication B: [15, 17, 16, 14, 18]\n",
    "####   Perform an analysis of variance (ANOVA) to determine if there is a significant difference in the mean recovery times between the two medications.\n"
   ]
  },
  {
   "cell_type": "markdown",
   "id": "eb951555-d07b-4daa-8b6a-eec3ca358bfb",
   "metadata": {},
   "source": [
    "We set the significance level (alpha) to 0.05, which is a common choice. If the p-value is less than the significance level, we reject the null hypothesis and conclude that there is a significant difference in the mean recovery times between the two medications. Otherwise, if the p-value is greater than or equal to the significance level, we fail to reject the null hypothesis and conclude that there is no significant difference in the mean recovery times between the two medications."
   ]
  },
  {
   "cell_type": "code",
   "execution_count": 36,
   "id": "e4791ea8-8a1d-4a88-b225-630430efc61a",
   "metadata": {},
   "outputs": [
    {
     "name": "stdout",
     "output_type": "stream",
     "text": [
      "There is a significant difference in the mean recovery times between the two medications.\n"
     ]
    }
   ],
   "source": [
    "#Ans:\n",
    "\n",
    "import scipy.stats as stats\n",
    "medication_a = [10, 12, 14, 11, 13]\n",
    "medication_b = [15, 17, 16, 14, 18]\n",
    "# Perform one-way ANOVA\n",
    "f_value, p_value = stats.f_oneway(medication_a, medication_b)\n",
    "alpha = 0.05  # significance level\n",
    "if p_value < alpha:\n",
    "    print(\"There is a significant difference in the mean recovery times between the two medications.\")\n",
    "else:\n",
    "    print(\"There is no significant difference in the mean recovery times between the two medications.\")"
   ]
  },
  {
   "cell_type": "code",
   "execution_count": null,
   "id": "02a604bf-698a-4f76-a0c7-f83b3f6674e8",
   "metadata": {},
   "outputs": [],
   "source": []
  },
  {
   "cell_type": "markdown",
   "id": "a15ff2c8-d7f5-4810-bf46-da1fe82a3f2b",
   "metadata": {},
   "source": [
    "### 10. Scenario: A company wants to analyze customer feedback ratings on a scale of 1 to 10. The data collected is as follows:\n",
    "####    [8, 9, 7, 6, 8, 10, 9, 8, 7, 8]\n",
    "####    Calculate the 75th percentile of the feedback ratings.\n"
   ]
  },
  {
   "cell_type": "code",
   "execution_count": 38,
   "id": "e45b4523-d488-40ae-bff1-60009ca26768",
   "metadata": {},
   "outputs": [
    {
     "name": "stdout",
     "output_type": "stream",
     "text": [
      "75th percentile of feedback ratings: 8.75\n"
     ]
    }
   ],
   "source": [
    "import numpy as np\n",
    "feedback_ratings = [8, 9, 7, 6, 8, 10, 9, 8, 7, 8]\n",
    "percentile_75 = np.percentile(feedback_ratings, 75)\n",
    "print(\"75th percentile of feedback ratings:\", percentile_75)\n"
   ]
  },
  {
   "cell_type": "code",
   "execution_count": null,
   "id": "0cf95a2b-0f02-43fb-930d-13f20c29652e",
   "metadata": {},
   "outputs": [],
   "source": []
  },
  {
   "cell_type": "markdown",
   "id": "96d0724c-66a4-423a-ad42-604c691a81b5",
   "metadata": {},
   "source": [
    "### 11. Scenario: A quality control department wants to test the weight consistency of a product. The weights of a sample of products are as follows:\n",
    "####    [10.2, 9.8, 10.0, 10.5, 10.3, 10.1]\n",
    "####    Perform a hypothesis test to determine if the mean weight differs significantly from 10 grams.\n"
   ]
  },
  {
   "cell_type": "markdown",
   "id": "e07061ab-4e4f-402b-ac09-142b023b645c",
   "metadata": {},
   "source": [
    "We set the significance level (alpha) to 0.05, which is a common choice. If the p-value is less than the significance level, we reject the null hypothesis and conclude that the mean weight significantly differs from 10 grams. Otherwise, if the p-value is greater than or equal to the significance level, we fail to reject the null hypothesis and conclude that the mean weight does not significantly differ from 10 grams."
   ]
  },
  {
   "cell_type": "code",
   "execution_count": 39,
   "id": "31a3328c-57b4-4be1-95b1-a63939e20a5a",
   "metadata": {},
   "outputs": [
    {
     "name": "stdout",
     "output_type": "stream",
     "text": [
      "The mean weight does not significantly differ from 10 grams.\n"
     ]
    }
   ],
   "source": [
    "#Ans:\n",
    "\n",
    "import scipy.stats as stats\n",
    "import numpy as np\n",
    "weights = np.array([10.2, 9.8, 10.0, 10.5, 10.3, 10.1])\n",
    "# Perform one-sample t-test\n",
    "t_statistic, p_value = stats.ttest_1samp(weights, 10)\n",
    "alpha = 0.05  # significance level\n",
    "if p_value < alpha:\n",
    "    print(\"The mean weight significantly differs from 10 grams.\")\n",
    "else:\n",
    "    print(\"The mean weight does not significantly differ from 10 grams.\")\n"
   ]
  },
  {
   "cell_type": "code",
   "execution_count": null,
   "id": "0f8c49c9-ba11-4304-8088-b83629737994",
   "metadata": {},
   "outputs": [],
   "source": []
  },
  {
   "cell_type": "markdown",
   "id": "2b7c7e66-7d1d-472f-a947-7d5b8513936a",
   "metadata": {},
   "source": [
    "### 12. Scenario: A company wants to analyze the click-through rates of two different website designs. The number of clicks for each design is as follows:\n",
    "####    Design A: [100, 120, 110, 90, 95]\n",
    "####    Design B: [80, 85, 90, 95, 100]\n",
    "####    Perform a chi-square test to determine if there is a significant difference in the click-through rates between the two designs.\n"
   ]
  },
  {
   "cell_type": "markdown",
   "id": "d95f1d96-781c-429e-8aab-3651ade1a47e",
   "metadata": {},
   "source": [
    "We set the significance level (alpha) to 0.05, which is a common choice. If the p-value is less than the significance level, we reject the null hypothesis and conclude that there is a significant difference in the click-through rates between the two designs. Otherwise, if the p-value is greater than or equal to the significance level, we fail to reject the null hypothesis and conclude that there is no significant difference in the click-through rates between the two designs."
   ]
  },
  {
   "cell_type": "code",
   "execution_count": 42,
   "id": "c9b173db-03d3-4a87-b664-80e4c1a1abb3",
   "metadata": {},
   "outputs": [
    {
     "name": "stdout",
     "output_type": "stream",
     "text": [
      "There is no significant difference in the click-through rates between the two designs.\n"
     ]
    }
   ],
   "source": [
    "#Ans:\n",
    "import scipy.stats as stats\n",
    "import numpy as np\n",
    "design_a_clicks = np.array([100, 120, 110, 90, 95])\n",
    "design_b_clicks = np.array([80, 85, 90, 95, 100])\n",
    "# Create a contingency table\n",
    "contingency_table = np.array([design_a_clicks, design_b_clicks])\n",
    "# Perform chi-square test\n",
    "chi2_statistic, p_value, _, _ = stats.chi2_contingency(contingency_table)\n",
    "alpha = 0.05  # significance level\n",
    "if p_value < alpha:\n",
    "    print(\"There is a significant difference in the click-through rates between the two designs.\")\n",
    "else:\n",
    "    print(\"There is no significant difference in the click-through rates between the two designs.\")\n"
   ]
  },
  {
   "cell_type": "code",
   "execution_count": null,
   "id": "745dd872-8730-4a14-9965-4ec145785fae",
   "metadata": {},
   "outputs": [],
   "source": []
  },
  {
   "cell_type": "markdown",
   "id": "56f6fdff-f3ac-481e-9114-16fc6f806040",
   "metadata": {},
   "source": [
    "### 13. Scenario: A survey is conducted to measure customer satisfaction with a product on a scale of 1 to 10. The data collected is as follows:\n",
    "####    [7, 9, 6, 8, 10, 7, 8, 9, 7, 8]\n",
    "####    Calculate the 95% confidence interval for the population mean satisfaction score.\n"
   ]
  },
  {
   "cell_type": "code",
   "execution_count": 44,
   "id": "ad8853d8-6cfd-4d60-bcc4-eb1c677a092e",
   "metadata": {},
   "outputs": [
    {
     "name": "stdout",
     "output_type": "stream",
     "text": [
      "95% Confidence Interval: (7.157969611381835, 8.642030388618165)\n"
     ]
    }
   ],
   "source": [
    "#Ans: \n",
    "\n",
    "import numpy as np\n",
    "import scipy.stats as stats\n",
    "satisfaction_scores = np.array([7, 9, 6, 8, 10, 7, 8, 9, 7, 8])\n",
    "# Calculate sample mean and standard deviation\n",
    "sample_mean = np.mean(satisfaction_scores)\n",
    "sample_std = np.std(satisfaction_scores, ddof=1)\n",
    "# Calculate critical value\n",
    "alpha = 0.05  # significance level\n",
    "z_critical = stats.norm.ppf(1 - alpha/2)\n",
    "# Calculate margin of error\n",
    "margin_of_error = z_critical * (sample_std / np.sqrt(len(satisfaction_scores)))\n",
    "# Calculate confidence interval\n",
    "confidence_interval = (sample_mean - margin_of_error, sample_mean + margin_of_error)\n",
    "print(\"95% Confidence Interval:\", confidence_interval)\n"
   ]
  },
  {
   "cell_type": "code",
   "execution_count": null,
   "id": "61d48337-7cbb-4212-a910-100428546f13",
   "metadata": {},
   "outputs": [],
   "source": []
  },
  {
   "cell_type": "markdown",
   "id": "9936ad0e-4b3e-4186-b3c3-71cb4d9fb2b0",
   "metadata": {},
   "source": [
    "### 14. Scenario: A company wants to analyze the effect of temperature on product performance. The data collected is as follows:\n",
    "####    Temperature (in degrees Celsius): [20, 22, 23, 19, 21]\n",
    "####    Performance (on a scale of 1 to 10): [8, 7, 9, 6, 8]\n",
    "####    Perform a simple linear regression to predict performance based on temperature.\n"
   ]
  },
  {
   "cell_type": "code",
   "execution_count": 46,
   "id": "fabe4389-1643-4b2d-99a5-50aa9a338abd",
   "metadata": {},
   "outputs": [
    {
     "name": "stdout",
     "output_type": "stream",
     "text": [
      "Intercept: -2.8999999999999986\n",
      "Coefficient for temperature: 0.4999999999999999\n"
     ]
    }
   ],
   "source": [
    "# Ans:\n",
    "\n",
    "from sklearn.linear_model import LinearRegression\n",
    "import numpy as np\n",
    "temperature = np.array([20, 22, 23, 19, 21])\n",
    "performance = np.array([8, 7, 9, 6, 8])\n",
    "# Reshape the temperature array to match the expected input shape\n",
    "X = temperature.reshape(-1, 1)\n",
    "# Create and fit the linear regression model\n",
    "model = LinearRegression()\n",
    "model.fit(X, performance)\n",
    "# Print the regression coefficients\n",
    "print(\"Intercept:\", model.intercept_)\n",
    "print(\"Coefficient for temperature:\", model.coef_[0])"
   ]
  },
  {
   "cell_type": "code",
   "execution_count": 47,
   "id": "884333d7-65df-45eb-b940-642a6a81d72e",
   "metadata": {},
   "outputs": [
    {
     "name": "stdout",
     "output_type": "stream",
     "text": [
      "Predicted performance: 9.599999999999998\n"
     ]
    }
   ],
   "source": [
    "# Predict performance for a new temperature\n",
    "new_temperature = np.array([[25]])  # Example: predicting for 25 degrees Celsius\n",
    "predicted_performance = model.predict(new_temperature)\n",
    "print(\"Predicted performance:\", predicted_performance[0])"
   ]
  },
  {
   "cell_type": "code",
   "execution_count": null,
   "id": "1697ebfa-7c56-429a-8847-4d3f0891257b",
   "metadata": {},
   "outputs": [],
   "source": []
  },
  {
   "cell_type": "markdown",
   "id": "43e4d007-7866-4b82-b452-2b849a7774a7",
   "metadata": {},
   "source": [
    "### 15. Scenario: A study is conducted to compare the preferences of two groups of participants. The preferences are measured on a Likert scale from 1 to 5. The data collected is as follows:\n",
    "####    Group A: [4, 3, 5, 2, 4]\n",
    "####    Group B: [3, 2, 4, 3, 3]\n",
    "####    Perform a Mann-Whitney U test to determine if there is a significant difference in the median preferences between the two groups.\n"
   ]
  },
  {
   "cell_type": "markdown",
   "id": "001aa0e0-b185-48b2-b796-d993be5fc4f1",
   "metadata": {},
   "source": [
    "We set the significance level (alpha) to 0.05, which is a common choice. If the p-value is less than the significance level, we reject the null hypothesis and conclude that there is a significant difference in the median preferences between the two groups. Otherwise, if the p-value is greater than or equal to the significance level, we fail to reject the null hypothesis and conclude that there is no significant difference in the median preferences between the two groups."
   ]
  },
  {
   "cell_type": "code",
   "execution_count": 49,
   "id": "1f73f3b6-4f88-4cb7-baa5-1748c3ba777a",
   "metadata": {},
   "outputs": [
    {
     "name": "stdout",
     "output_type": "stream",
     "text": [
      "There is no significant difference in the median preferences between the two groups.\n"
     ]
    }
   ],
   "source": [
    "# Ans:\n",
    "\n",
    "import scipy.stats as stats\n",
    "import numpy as np\n",
    "group_a_preferences = np.array([4, 3, 5, 2, 4])\n",
    "group_b_preferences = np.array([3, 2, 4, 3, 3])\n",
    "# Perform Mann-Whitney U test\n",
    "statistic, p_value = stats.mannwhitneyu(group_a_preferences, group_b_preferences)\n",
    "alpha = 0.05  # significance level\n",
    "if p_value < alpha:\n",
    "    print(\"There is a significant difference in the median preferences between the two groups.\")\n",
    "else:\n",
    "    print(\"There is no significant difference in the median preferences between the two groups.\")\n"
   ]
  },
  {
   "cell_type": "code",
   "execution_count": null,
   "id": "86d50d10-5873-40a2-b71e-2594b2c5025b",
   "metadata": {},
   "outputs": [],
   "source": []
  },
  {
   "cell_type": "markdown",
   "id": "e864b993-1191-416b-9580-5a89f53b757f",
   "metadata": {},
   "source": [
    "### 16. Scenario: A company wants to analyze the distribution of customer ages. The data collected is as follows:\n",
    "####    [25, 30, 35, 40, 45, 50, 55, 60, 65, 70]\n",
    "####    Calculate the interquartile range (IQR) of the ages.\n"
   ]
  },
  {
   "cell_type": "code",
   "execution_count": 50,
   "id": "2213b7fa-a17f-4edf-b061-a8e705934012",
   "metadata": {},
   "outputs": [
    {
     "name": "stdout",
     "output_type": "stream",
     "text": [
      "Interquartile Range (IQR): 22.5\n"
     ]
    }
   ],
   "source": [
    "#Ans:\n",
    "import numpy as np\n",
    "ages = np.array([25, 30, 35, 40, 45, 50, 55, 60, 65, 70])\n",
    "# Calculate the first quartile (Q1)\n",
    "q1 = np.percentile(ages, 25)\n",
    "# Calculate the third quartile (Q3)\n",
    "q3 = np.percentile(ages, 75)\n",
    "# Calculate the interquartile range (IQR)\n",
    "iqr = q3 - q1\n",
    "print(\"Interquartile Range (IQR):\", iqr)\n"
   ]
  },
  {
   "cell_type": "code",
   "execution_count": null,
   "id": "a051390b-fa61-4ccb-a06e-884b11d07c86",
   "metadata": {},
   "outputs": [],
   "source": []
  },
  {
   "cell_type": "markdown",
   "id": "e8a8584f-6731-44ae-a28b-76481adf3a27",
   "metadata": {},
   "source": [
    "### 17. Scenario: A study is conducted to compare the performance of three different machine learning algorithms. The accuracy scores for each algorithm are as follows:\n",
    "####    Algorithm A: [0.85, 0.80, 0.82, 0.87, 0.83]\n",
    "####    Algorithm B: [0.78, 0.82, 0.84, 0.80, 0.79]\n",
    "####    Algorithm C: [0.90, 0.88, 0.89, 0.86, 0.87]\n",
    "####    Perform a Kruskal-Wallis test to determine if there is a significant difference in the median accuracy scores between the algorithms.\n"
   ]
  },
  {
   "cell_type": "markdown",
   "id": "3703c40c-9cae-4758-87d4-2af03ebeb5c5",
   "metadata": {},
   "source": [
    "We set the significance level (alpha) to 0.05, which is a common choice. If the p-value is less than the significance level, we reject the null hypothesis and conclude that there is a significant difference in the median accuracy scores between the algorithms. Otherwise, if the p-value is greater than or equal to the significance level, we fail to reject the null hypothesis and conclude that there is no significant difference in the median accuracy scores between the algorithms."
   ]
  },
  {
   "cell_type": "code",
   "execution_count": 52,
   "id": "764a2e27-f7ae-4f06-8268-4fc62dc510a4",
   "metadata": {},
   "outputs": [
    {
     "name": "stdout",
     "output_type": "stream",
     "text": [
      "There is a significant difference in the median accuracy scores between the algorithms.\n"
     ]
    }
   ],
   "source": [
    "import scipy.stats as stats\n",
    "import numpy as np\n",
    "algorithm_a_scores = np.array([0.85, 0.80, 0.82, 0.87, 0.83])\n",
    "algorithm_b_scores = np.array([0.78, 0.82, 0.84, 0.80, 0.79])\n",
    "algorithm_c_scores = np.array([0.90, 0.88, 0.89, 0.86, 0.87])\n",
    "# Perform Kruskal-Wallis test\n",
    "statistic, p_value = stats.kruskal(algorithm_a_scores, algorithm_b_scores, algorithm_c_scores)\n",
    "alpha = 0.05  # significance level\n",
    "if p_value < alpha:\n",
    "    print(\"There is a significant difference in the median accuracy scores between the algorithms.\")\n",
    "else:\n",
    "    print(\"There is no significant difference in the median accuracy scores between the algorithms.\")\n"
   ]
  },
  {
   "cell_type": "code",
   "execution_count": null,
   "id": "d6780501-1ea3-48cd-a2eb-eeb3a7183cf6",
   "metadata": {},
   "outputs": [],
   "source": []
  },
  {
   "cell_type": "markdown",
   "id": "b56770d4-baf6-4667-9b4a-3ed572da9b41",
   "metadata": {},
   "source": [
    "### 18. Scenario: A company wants to analyze the effect of price on sales. The data collected is as follows:\n",
    "####    Price (in dollars): [10, 15, 12, 8, 14]\n",
    "####    Sales: [100, 80, 90, 110, 95]\n",
    "####    Perform a simple linear regression to predict\n"
   ]
  },
  {
   "cell_type": "code",
   "execution_count": 54,
   "id": "db4960d3-7f1c-436a-bfe4-bc6ed46920a2",
   "metadata": {},
   "outputs": [
    {
     "name": "stdout",
     "output_type": "stream",
     "text": [
      "Intercept: 136.3719512195122\n",
      "Coefficient for price: -3.5060975609756095\n"
     ]
    }
   ],
   "source": [
    "#Ans:\n",
    "from sklearn.linear_model import LinearRegression\n",
    "import numpy as np\n",
    "price = np.array([10, 15, 12, 8, 14])\n",
    "sales = np.array([100, 80, 90, 110, 95])\n",
    "# Reshape the price array to match the expected input shape\n",
    "X = price.reshape(-1, 1)\n",
    "# Create and fit the linear regression model\n",
    "model = LinearRegression()\n",
    "model.fit(X, sales)\n",
    "# Print the regression coefficients\n",
    "print(\"Intercept:\", model.intercept_)\n",
    "print(\"Coefficient for price:\", model.coef_[0])"
   ]
  },
  {
   "cell_type": "code",
   "execution_count": 55,
   "id": "4d2c2317-24a3-4c16-825c-75573bb858b4",
   "metadata": {},
   "outputs": [
    {
     "name": "stdout",
     "output_type": "stream",
     "text": [
      "Predicted sales: 90.79268292682927\n"
     ]
    }
   ],
   "source": [
    "# Predict sales for a new price\n",
    "new_price = np.array([[13]])  # Example: predicting for price of 13 dollars\n",
    "predicted_sales = model.predict(new_price)\n",
    "print(\"Predicted sales:\", predicted_sales[0])"
   ]
  },
  {
   "cell_type": "code",
   "execution_count": null,
   "id": "0eb569a8-d30d-4434-a1ed-6e06bd16dfa7",
   "metadata": {},
   "outputs": [],
   "source": []
  },
  {
   "cell_type": "markdown",
   "id": "17d17039-fcd2-48ec-a174-872398a2a798",
   "metadata": {},
   "source": [
    "### 19. Scenario: A survey is conducted to measure the satisfaction levels of customers with a new product. The data collected is as follows:\n",
    "####    [7, 8, 9, 6, 8, 7, 9, 7, 8, 7]\n",
    "####    Calculate the standard error of the mean satisfaction score."
   ]
  },
  {
   "cell_type": "code",
   "execution_count": 56,
   "id": "fb546a66-e6b4-433c-aa43-528131c4902e",
   "metadata": {},
   "outputs": [
    {
     "name": "stdout",
     "output_type": "stream",
     "text": [
      "Standard Error of the Mean: 0.30550504633038933\n"
     ]
    }
   ],
   "source": [
    "# Ans:\n",
    "import numpy as np\n",
    "satisfaction_scores = np.array([7, 8, 9, 6, 8, 7, 9, 7, 8, 7])\n",
    "# Calculate the standard deviation\n",
    "std_dev = np.std(satisfaction_scores, ddof=1)\n",
    "# Calculate the standard error of the mean\n",
    "n = len(satisfaction_scores)\n",
    "standard_error = std_dev / np.sqrt(n)\n",
    "print(\"Standard Error of the Mean:\", standard_error)\n"
   ]
  },
  {
   "cell_type": "code",
   "execution_count": null,
   "id": "66788d98-f375-47a5-9899-9b07cbb6cd24",
   "metadata": {},
   "outputs": [],
   "source": []
  },
  {
   "cell_type": "markdown",
   "id": "f1cea7fb-9910-4e82-9b6f-03036f17e2b3",
   "metadata": {},
   "source": [
    "### 20. Scenario: A company wants to analyze the relationship between advertising expenditure and sales. The data collected is as follows:\n",
    "####    Advertising Expenditure (in thousands): [10, 15, 12, 8, 14]\n",
    "####    Sales (in thousands): [25, 30, 28, 20, 26]\n",
    "####    Perform a multiple regression analysis to predict sales based on advertising expenditure.\n"
   ]
  },
  {
   "cell_type": "code",
   "execution_count": 58,
   "id": "8d0651ba-c955-48f1-9d6d-2467b6c5cfa1",
   "metadata": {},
   "outputs": [
    {
     "name": "stdout",
     "output_type": "stream",
     "text": [
      "Intercept: 12.20121951219512\n",
      "Coefficient for advertising expenditure: 1.152439024390244\n"
     ]
    }
   ],
   "source": [
    "from sklearn.linear_model import LinearRegression\n",
    "import numpy as np\n",
    "advertising_expenditure = np.array([10, 15, 12, 8, 14]).reshape(-1, 1)\n",
    "sales = np.array([25, 30, 28, 20, 26])\n",
    "# Create and fit the linear regression model\n",
    "model = LinearRegression()\n",
    "model.fit(advertising_expenditure, sales)\n",
    "# Print the regression coefficients\n",
    "print(\"Intercept:\", model.intercept_)\n",
    "print(\"Coefficient for advertising expenditure:\", model.coef_[0])"
   ]
  },
  {
   "cell_type": "code",
   "execution_count": 59,
   "id": "04b14ccf-4d15-4687-95af-54289d4732ae",
   "metadata": {},
   "outputs": [
    {
     "name": "stdout",
     "output_type": "stream",
     "text": [
      "Predicted sales: [30.6402439  32.94512195]\n"
     ]
    }
   ],
   "source": [
    "# Predict sales for new advertising expenditure values\n",
    "new_advertising_expenditure = np.array([[16], [18]])  # Example: predicting for 16 and 18 thousands\n",
    "predicted_sales = model.predict(new_advertising_expenditure)\n",
    "print(\"Predicted sales:\", predicted_sales)"
   ]
  },
  {
   "cell_type": "code",
   "execution_count": null,
   "id": "0ef58ef1-9e1e-4e99-98e5-c316107bc598",
   "metadata": {},
   "outputs": [],
   "source": []
  }
 ],
 "metadata": {
  "kernelspec": {
   "display_name": "Python 3 (ipykernel)",
   "language": "python",
   "name": "python3"
  },
  "language_info": {
   "codemirror_mode": {
    "name": "ipython",
    "version": 3
   },
   "file_extension": ".py",
   "mimetype": "text/x-python",
   "name": "python",
   "nbconvert_exporter": "python",
   "pygments_lexer": "ipython3",
   "version": "3.10.8"
  }
 },
 "nbformat": 4,
 "nbformat_minor": 5
}
