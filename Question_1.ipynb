{
 "cells": [
  {
   "cell_type": "markdown",
   "id": "bc0d96bf-28dc-44f4-ae37-8c4b8a9781cb",
   "metadata": {
    "tags": []
   },
   "source": [
    "### Given an integer array nums, move all 0's to the end of it while maintaining the relative order of the non-zero elements.\n",
    "\n",
    "Note that you must do this in-place without making a copy of the array.\n",
    "\n",
    "#### Example 1:\n",
    "Input: nums = [0,1,0,3,12]\n",
    "\n",
    "Output: [1,3,12,0,0]\n",
    "\n",
    "#### Example 2:\n",
    "Input: nums = [0]\n",
    "\n",
    "Output: [0]\n",
    "\n",
    "#### Constraints:\n",
    "a. 1 <= nums.length <= 10^4\n",
    "\n",
    "b. -2^31 <= nums[i] <= 2^31 - 1"
   ]
  },
  {
   "cell_type": "code",
   "execution_count": null,
   "id": "6ed6d03d-bd51-4061-bb96-6a39a16890ca",
   "metadata": {},
   "outputs": [],
   "source": []
  },
  {
   "cell_type": "code",
   "execution_count": 10,
   "id": "ab9d1f2a-c56d-4ad2-ba5f-5d916ef8db9e",
   "metadata": {},
   "outputs": [],
   "source": [
    "# Ans:\n",
    "def moveZeroes(nums):\n",
    "    i = 0  # Pointer for non-zero elements\n",
    "    \n",
    "    # Iterate through the array\n",
    "    for j in range(len(nums)):\n",
    "        if nums[j] != 0:\n",
    "            # Swap non-zero element with the current position of i\n",
    "            nums[i], nums[j] = nums[j], nums[i]\n",
    "            i += 1\n",
    "    return nums[:i] + [0] * (len(nums) - i)\n"
   ]
  },
  {
   "cell_type": "code",
   "execution_count": 14,
   "id": "3a8ae27a-ea92-408a-966e-9d29e4bd5b58",
   "metadata": {},
   "outputs": [
    {
     "name": "stdout",
     "output_type": "stream",
     "text": [
      "[1, 3, 12, 0, 0]\n"
     ]
    }
   ],
   "source": [
    "# Example 1\n",
    "nums = [0, 1, 0, 3, 12]\n",
    "print(moveZeroes(nums))\n"
   ]
  },
  {
   "cell_type": "code",
   "execution_count": 15,
   "id": "0f10cce7-f6a2-4ff0-a13c-9db82ffede2c",
   "metadata": {},
   "outputs": [
    {
     "name": "stdout",
     "output_type": "stream",
     "text": [
      "[0]\n"
     ]
    }
   ],
   "source": [
    "#Example 2\n",
    "nums = [0]\n",
    "print(moveZeroes(nums))"
   ]
  },
  {
   "cell_type": "code",
   "execution_count": null,
   "id": "514e5986-ad0d-4e08-a668-f710940233a5",
   "metadata": {},
   "outputs": [],
   "source": []
  }
 ],
 "metadata": {
  "kernelspec": {
   "display_name": "Python 3 (ipykernel)",
   "language": "python",
   "name": "python3"
  },
  "language_info": {
   "codemirror_mode": {
    "name": "ipython",
    "version": 3
   },
   "file_extension": ".py",
   "mimetype": "text/x-python",
   "name": "python",
   "nbconvert_exporter": "python",
   "pygments_lexer": "ipython3",
   "version": "3.10.8"
  }
 },
 "nbformat": 4,
 "nbformat_minor": 5
}
